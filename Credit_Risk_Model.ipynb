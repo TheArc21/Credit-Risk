{
 "cells": [
  {
   "cell_type": "code",
   "execution_count": null,
   "metadata": {},
   "outputs": [],
   "source": [
    "#Load the Libraries\n",
    "import pandas as pd #to work with dataset\n",
    "import numpy as np #math library\n",
    "import seaborn as sns #Graph library that use matplot in bg\n",
    "import matplotlib.pyplot as plt #to plot some parameters in seaborn\n",
    "\n",
    "#import the data\n",
    "df_credit = pd.read_csv(\"..\")"
   ]
  }
 ],
 "metadata": {
  "language_info": {
   "name": "python"
  }
 },
 "nbformat": 4,
 "nbformat_minor": 2
}
