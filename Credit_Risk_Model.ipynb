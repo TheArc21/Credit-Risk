{
 "cells": [
  {
   "cell_type": "code",
   "execution_count": 2,
   "metadata": {},
   "outputs": [],
   "source": [
    "#Load the Libraries\n",
    "import pandas as pd #to work with dataset\n",
    "import numpy as np #math library\n",
    "import seaborn as sns #Graph library that use matplot in bg\n",
    "import matplotlib.pyplot as plt #to plot some parameters in seaborn\n",
    "\n",
    "#import the data\n",
    "df_credit = pd.read_csv(\"input/german_credit_data.csv\", index_col=0)"
   ]
  },
  {
   "cell_type": "code",
   "execution_count": 3,
   "metadata": {},
   "outputs": [
    {
     "name": "stdout",
     "output_type": "stream",
     "text": [
      "<class 'pandas.core.frame.DataFrame'>\n",
      "Index: 1000 entries, 0 to 999\n",
      "Data columns (total 10 columns):\n",
      " #   Column            Non-Null Count  Dtype \n",
      "---  ------            --------------  ----- \n",
      " 0   Age               1000 non-null   int64 \n",
      " 1   Sex               1000 non-null   object\n",
      " 2   Job               1000 non-null   int64 \n",
      " 3   Housing           1000 non-null   object\n",
      " 4   Saving accounts   817 non-null    object\n",
      " 5   Checking account  606 non-null    object\n",
      " 6   Credit amount     1000 non-null   int64 \n",
      " 7   Duration          1000 non-null   int64 \n",
      " 8   Purpose           1000 non-null   object\n",
      " 9   Risk              1000 non-null   object\n",
      "dtypes: int64(4), object(6)\n",
      "memory usage: 85.9+ KB\n",
      "None\n"
     ]
    }
   ],
   "source": [
    "# Initial Analysis of Data\n",
    "#Searching for Missings, type of data and also know the shape of data\n",
    "print(df_credit.info())"
   ]
  },
  {
   "cell_type": "code",
   "execution_count": 4,
   "metadata": {},
   "outputs": [
    {
     "name": "stdout",
     "output_type": "stream",
     "text": [
      "Age                  53\n",
      "Sex                   2\n",
      "Job                   4\n",
      "Housing               3\n",
      "Saving accounts       4\n",
      "Checking account      3\n",
      "Credit amount       921\n",
      "Duration             33\n",
      "Purpose               8\n",
      "Risk                  2\n",
      "dtype: int64\n",
      "   Age     Sex  Job Housing Saving accounts Checking account  Credit amount  \\\n",
      "0   67    male    2     own             NaN           little           1169   \n",
      "1   22  female    2     own          little         moderate           5951   \n",
      "2   49    male    1     own          little              NaN           2096   \n",
      "3   45    male    2    free          little           little           7882   \n",
      "4   53    male    2    free          little           little           4870   \n",
      "\n",
      "   Duration              Purpose  Risk  \n",
      "0         6             radio/TV  good  \n",
      "1        48             radio/TV   bad  \n",
      "2        12            education  good  \n",
      "3        42  furniture/equipment  good  \n",
      "4        24                  car   bad  \n"
     ]
    }
   ],
   "source": [
    "#Looking for unique values\n",
    "print(df_credit.nunique())\n",
    "#looking the data\n",
    "print(df_credit.head())"
   ]
  },
  {
   "cell_type": "code",
   "execution_count": 9,
   "metadata": {},
   "outputs": [
    {
     "data": {
      "text/html": [
       "        <script type=\"text/javascript\">\n",
       "        window.PlotlyConfig = {MathJaxConfig: 'local'};\n",
       "        if (window.MathJax && window.MathJax.Hub && window.MathJax.Hub.Config) {window.MathJax.Hub.Config({SVG: {font: \"STIX-Web\"}});}\n",
       "        if (typeof require !== 'undefined') {\n",
       "        require.undef(\"plotly\");\n",
       "        requirejs.config({\n",
       "            paths: {\n",
       "                'plotly': ['https://cdn.plot.ly/plotly-2.30.0.min']\n",
       "            }\n",
       "        });\n",
       "        require(['plotly'], function(Plotly) {\n",
       "            window._Plotly = Plotly;\n",
       "        });\n",
       "        }\n",
       "        </script>\n",
       "        "
      ]
     },
     "metadata": {},
     "output_type": "display_data"
    },
    {
     "data": {
      "application/vnd.plotly.v1+json": {
       "config": {
        "linkText": "Export to plot.ly",
        "plotlyServerURL": "https://plot.ly",
        "showLink": false
       },
       "data": [
        {
         "name": "Good credit",
         "type": "bar",
         "x": [
          "good"
         ],
         "y": [
          700
         ]
        },
        {
         "name": "Bad credit",
         "type": "bar",
         "x": [
          "bad"
         ],
         "y": [
          300
         ]
        }
       ],
       "layout": {
        "template": {
         "data": {
          "bar": [
           {
            "error_x": {
             "color": "#2a3f5f"
            },
            "error_y": {
             "color": "#2a3f5f"
            },
            "marker": {
             "line": {
              "color": "#E5ECF6",
              "width": 0.5
             },
             "pattern": {
              "fillmode": "overlay",
              "size": 10,
              "solidity": 0.2
             }
            },
            "type": "bar"
           }
          ],
          "barpolar": [
           {
            "marker": {
             "line": {
              "color": "#E5ECF6",
              "width": 0.5
             },
             "pattern": {
              "fillmode": "overlay",
              "size": 10,
              "solidity": 0.2
             }
            },
            "type": "barpolar"
           }
          ],
          "carpet": [
           {
            "aaxis": {
             "endlinecolor": "#2a3f5f",
             "gridcolor": "white",
             "linecolor": "white",
             "minorgridcolor": "white",
             "startlinecolor": "#2a3f5f"
            },
            "baxis": {
             "endlinecolor": "#2a3f5f",
             "gridcolor": "white",
             "linecolor": "white",
             "minorgridcolor": "white",
             "startlinecolor": "#2a3f5f"
            },
            "type": "carpet"
           }
          ],
          "choropleth": [
           {
            "colorbar": {
             "outlinewidth": 0,
             "ticks": ""
            },
            "type": "choropleth"
           }
          ],
          "contour": [
           {
            "colorbar": {
             "outlinewidth": 0,
             "ticks": ""
            },
            "colorscale": [
             [
              0,
              "#0d0887"
             ],
             [
              0.1111111111111111,
              "#46039f"
             ],
             [
              0.2222222222222222,
              "#7201a8"
             ],
             [
              0.3333333333333333,
              "#9c179e"
             ],
             [
              0.4444444444444444,
              "#bd3786"
             ],
             [
              0.5555555555555556,
              "#d8576b"
             ],
             [
              0.6666666666666666,
              "#ed7953"
             ],
             [
              0.7777777777777778,
              "#fb9f3a"
             ],
             [
              0.8888888888888888,
              "#fdca26"
             ],
             [
              1,
              "#f0f921"
             ]
            ],
            "type": "contour"
           }
          ],
          "contourcarpet": [
           {
            "colorbar": {
             "outlinewidth": 0,
             "ticks": ""
            },
            "type": "contourcarpet"
           }
          ],
          "heatmap": [
           {
            "colorbar": {
             "outlinewidth": 0,
             "ticks": ""
            },
            "colorscale": [
             [
              0,
              "#0d0887"
             ],
             [
              0.1111111111111111,
              "#46039f"
             ],
             [
              0.2222222222222222,
              "#7201a8"
             ],
             [
              0.3333333333333333,
              "#9c179e"
             ],
             [
              0.4444444444444444,
              "#bd3786"
             ],
             [
              0.5555555555555556,
              "#d8576b"
             ],
             [
              0.6666666666666666,
              "#ed7953"
             ],
             [
              0.7777777777777778,
              "#fb9f3a"
             ],
             [
              0.8888888888888888,
              "#fdca26"
             ],
             [
              1,
              "#f0f921"
             ]
            ],
            "type": "heatmap"
           }
          ],
          "heatmapgl": [
           {
            "colorbar": {
             "outlinewidth": 0,
             "ticks": ""
            },
            "colorscale": [
             [
              0,
              "#0d0887"
             ],
             [
              0.1111111111111111,
              "#46039f"
             ],
             [
              0.2222222222222222,
              "#7201a8"
             ],
             [
              0.3333333333333333,
              "#9c179e"
             ],
             [
              0.4444444444444444,
              "#bd3786"
             ],
             [
              0.5555555555555556,
              "#d8576b"
             ],
             [
              0.6666666666666666,
              "#ed7953"
             ],
             [
              0.7777777777777778,
              "#fb9f3a"
             ],
             [
              0.8888888888888888,
              "#fdca26"
             ],
             [
              1,
              "#f0f921"
             ]
            ],
            "type": "heatmapgl"
           }
          ],
          "histogram": [
           {
            "marker": {
             "pattern": {
              "fillmode": "overlay",
              "size": 10,
              "solidity": 0.2
             }
            },
            "type": "histogram"
           }
          ],
          "histogram2d": [
           {
            "colorbar": {
             "outlinewidth": 0,
             "ticks": ""
            },
            "colorscale": [
             [
              0,
              "#0d0887"
             ],
             [
              0.1111111111111111,
              "#46039f"
             ],
             [
              0.2222222222222222,
              "#7201a8"
             ],
             [
              0.3333333333333333,
              "#9c179e"
             ],
             [
              0.4444444444444444,
              "#bd3786"
             ],
             [
              0.5555555555555556,
              "#d8576b"
             ],
             [
              0.6666666666666666,
              "#ed7953"
             ],
             [
              0.7777777777777778,
              "#fb9f3a"
             ],
             [
              0.8888888888888888,
              "#fdca26"
             ],
             [
              1,
              "#f0f921"
             ]
            ],
            "type": "histogram2d"
           }
          ],
          "histogram2dcontour": [
           {
            "colorbar": {
             "outlinewidth": 0,
             "ticks": ""
            },
            "colorscale": [
             [
              0,
              "#0d0887"
             ],
             [
              0.1111111111111111,
              "#46039f"
             ],
             [
              0.2222222222222222,
              "#7201a8"
             ],
             [
              0.3333333333333333,
              "#9c179e"
             ],
             [
              0.4444444444444444,
              "#bd3786"
             ],
             [
              0.5555555555555556,
              "#d8576b"
             ],
             [
              0.6666666666666666,
              "#ed7953"
             ],
             [
              0.7777777777777778,
              "#fb9f3a"
             ],
             [
              0.8888888888888888,
              "#fdca26"
             ],
             [
              1,
              "#f0f921"
             ]
            ],
            "type": "histogram2dcontour"
           }
          ],
          "mesh3d": [
           {
            "colorbar": {
             "outlinewidth": 0,
             "ticks": ""
            },
            "type": "mesh3d"
           }
          ],
          "parcoords": [
           {
            "line": {
             "colorbar": {
              "outlinewidth": 0,
              "ticks": ""
             }
            },
            "type": "parcoords"
           }
          ],
          "pie": [
           {
            "automargin": true,
            "type": "pie"
           }
          ],
          "scatter": [
           {
            "fillpattern": {
             "fillmode": "overlay",
             "size": 10,
             "solidity": 0.2
            },
            "type": "scatter"
           }
          ],
          "scatter3d": [
           {
            "line": {
             "colorbar": {
              "outlinewidth": 0,
              "ticks": ""
             }
            },
            "marker": {
             "colorbar": {
              "outlinewidth": 0,
              "ticks": ""
             }
            },
            "type": "scatter3d"
           }
          ],
          "scattercarpet": [
           {
            "marker": {
             "colorbar": {
              "outlinewidth": 0,
              "ticks": ""
             }
            },
            "type": "scattercarpet"
           }
          ],
          "scattergeo": [
           {
            "marker": {
             "colorbar": {
              "outlinewidth": 0,
              "ticks": ""
             }
            },
            "type": "scattergeo"
           }
          ],
          "scattergl": [
           {
            "marker": {
             "colorbar": {
              "outlinewidth": 0,
              "ticks": ""
             }
            },
            "type": "scattergl"
           }
          ],
          "scattermapbox": [
           {
            "marker": {
             "colorbar": {
              "outlinewidth": 0,
              "ticks": ""
             }
            },
            "type": "scattermapbox"
           }
          ],
          "scatterpolar": [
           {
            "marker": {
             "colorbar": {
              "outlinewidth": 0,
              "ticks": ""
             }
            },
            "type": "scatterpolar"
           }
          ],
          "scatterpolargl": [
           {
            "marker": {
             "colorbar": {
              "outlinewidth": 0,
              "ticks": ""
             }
            },
            "type": "scatterpolargl"
           }
          ],
          "scatterternary": [
           {
            "marker": {
             "colorbar": {
              "outlinewidth": 0,
              "ticks": ""
             }
            },
            "type": "scatterternary"
           }
          ],
          "surface": [
           {
            "colorbar": {
             "outlinewidth": 0,
             "ticks": ""
            },
            "colorscale": [
             [
              0,
              "#0d0887"
             ],
             [
              0.1111111111111111,
              "#46039f"
             ],
             [
              0.2222222222222222,
              "#7201a8"
             ],
             [
              0.3333333333333333,
              "#9c179e"
             ],
             [
              0.4444444444444444,
              "#bd3786"
             ],
             [
              0.5555555555555556,
              "#d8576b"
             ],
             [
              0.6666666666666666,
              "#ed7953"
             ],
             [
              0.7777777777777778,
              "#fb9f3a"
             ],
             [
              0.8888888888888888,
              "#fdca26"
             ],
             [
              1,
              "#f0f921"
             ]
            ],
            "type": "surface"
           }
          ],
          "table": [
           {
            "cells": {
             "fill": {
              "color": "#EBF0F8"
             },
             "line": {
              "color": "white"
             }
            },
            "header": {
             "fill": {
              "color": "#C8D4E3"
             },
             "line": {
              "color": "white"
             }
            },
            "type": "table"
           }
          ]
         },
         "layout": {
          "annotationdefaults": {
           "arrowcolor": "#2a3f5f",
           "arrowhead": 0,
           "arrowwidth": 1
          },
          "autotypenumbers": "strict",
          "coloraxis": {
           "colorbar": {
            "outlinewidth": 0,
            "ticks": ""
           }
          },
          "colorscale": {
           "diverging": [
            [
             0,
             "#8e0152"
            ],
            [
             0.1,
             "#c51b7d"
            ],
            [
             0.2,
             "#de77ae"
            ],
            [
             0.3,
             "#f1b6da"
            ],
            [
             0.4,
             "#fde0ef"
            ],
            [
             0.5,
             "#f7f7f7"
            ],
            [
             0.6,
             "#e6f5d0"
            ],
            [
             0.7,
             "#b8e186"
            ],
            [
             0.8,
             "#7fbc41"
            ],
            [
             0.9,
             "#4d9221"
            ],
            [
             1,
             "#276419"
            ]
           ],
           "sequential": [
            [
             0,
             "#0d0887"
            ],
            [
             0.1111111111111111,
             "#46039f"
            ],
            [
             0.2222222222222222,
             "#7201a8"
            ],
            [
             0.3333333333333333,
             "#9c179e"
            ],
            [
             0.4444444444444444,
             "#bd3786"
            ],
            [
             0.5555555555555556,
             "#d8576b"
            ],
            [
             0.6666666666666666,
             "#ed7953"
            ],
            [
             0.7777777777777778,
             "#fb9f3a"
            ],
            [
             0.8888888888888888,
             "#fdca26"
            ],
            [
             1,
             "#f0f921"
            ]
           ],
           "sequentialminus": [
            [
             0,
             "#0d0887"
            ],
            [
             0.1111111111111111,
             "#46039f"
            ],
            [
             0.2222222222222222,
             "#7201a8"
            ],
            [
             0.3333333333333333,
             "#9c179e"
            ],
            [
             0.4444444444444444,
             "#bd3786"
            ],
            [
             0.5555555555555556,
             "#d8576b"
            ],
            [
             0.6666666666666666,
             "#ed7953"
            ],
            [
             0.7777777777777778,
             "#fb9f3a"
            ],
            [
             0.8888888888888888,
             "#fdca26"
            ],
            [
             1,
             "#f0f921"
            ]
           ]
          },
          "colorway": [
           "#636efa",
           "#EF553B",
           "#00cc96",
           "#ab63fa",
           "#FFA15A",
           "#19d3f3",
           "#FF6692",
           "#B6E880",
           "#FF97FF",
           "#FECB52"
          ],
          "font": {
           "color": "#2a3f5f"
          },
          "geo": {
           "bgcolor": "white",
           "lakecolor": "white",
           "landcolor": "#E5ECF6",
           "showlakes": true,
           "showland": true,
           "subunitcolor": "white"
          },
          "hoverlabel": {
           "align": "left"
          },
          "hovermode": "closest",
          "mapbox": {
           "style": "light"
          },
          "paper_bgcolor": "white",
          "plot_bgcolor": "#E5ECF6",
          "polar": {
           "angularaxis": {
            "gridcolor": "white",
            "linecolor": "white",
            "ticks": ""
           },
           "bgcolor": "#E5ECF6",
           "radialaxis": {
            "gridcolor": "white",
            "linecolor": "white",
            "ticks": ""
           }
          },
          "scene": {
           "xaxis": {
            "backgroundcolor": "#E5ECF6",
            "gridcolor": "white",
            "gridwidth": 2,
            "linecolor": "white",
            "showbackground": true,
            "ticks": "",
            "zerolinecolor": "white"
           },
           "yaxis": {
            "backgroundcolor": "#E5ECF6",
            "gridcolor": "white",
            "gridwidth": 2,
            "linecolor": "white",
            "showbackground": true,
            "ticks": "",
            "zerolinecolor": "white"
           },
           "zaxis": {
            "backgroundcolor": "#E5ECF6",
            "gridcolor": "white",
            "gridwidth": 2,
            "linecolor": "white",
            "showbackground": true,
            "ticks": "",
            "zerolinecolor": "white"
           }
          },
          "shapedefaults": {
           "line": {
            "color": "#2a3f5f"
           }
          },
          "ternary": {
           "aaxis": {
            "gridcolor": "white",
            "linecolor": "white",
            "ticks": ""
           },
           "baxis": {
            "gridcolor": "white",
            "linecolor": "white",
            "ticks": ""
           },
           "bgcolor": "#E5ECF6",
           "caxis": {
            "gridcolor": "white",
            "linecolor": "white",
            "ticks": ""
           }
          },
          "title": {
           "x": 0.05
          },
          "xaxis": {
           "automargin": true,
           "gridcolor": "white",
           "linecolor": "white",
           "ticks": "",
           "title": {
            "standoff": 15
           },
           "zerolinecolor": "white",
           "zerolinewidth": 2
          },
          "yaxis": {
           "automargin": true,
           "gridcolor": "white",
           "linecolor": "white",
           "ticks": "",
           "title": {
            "standoff": 15
           },
           "zerolinecolor": "white",
           "zerolinewidth": 2
          }
         }
        },
        "title": {
         "text": "Target variable distribution"
        },
        "xaxis": {
         "title": {
          "text": "Risk Variable"
         }
        },
        "yaxis": {
         "title": {
          "text": "Count"
         }
        }
       }
      },
      "text/html": [
       "<div>                            <div id=\"a1f9336e-6d45-49c1-af03-5e3c98ecb000\" class=\"plotly-graph-div\" style=\"height:525px; width:100%;\"></div>            <script type=\"text/javascript\">                require([\"plotly\"], function(Plotly) {                    window.PLOTLYENV=window.PLOTLYENV || {};                                    if (document.getElementById(\"a1f9336e-6d45-49c1-af03-5e3c98ecb000\")) {                    Plotly.newPlot(                        \"a1f9336e-6d45-49c1-af03-5e3c98ecb000\",                        [{\"name\":\"Good credit\",\"x\":[\"good\"],\"y\":[700],\"type\":\"bar\"},{\"name\":\"Bad credit\",\"x\":[\"bad\"],\"y\":[300],\"type\":\"bar\"}],                        {\"template\":{\"data\":{\"barpolar\":[{\"marker\":{\"line\":{\"color\":\"#E5ECF6\",\"width\":0.5},\"pattern\":{\"fillmode\":\"overlay\",\"size\":10,\"solidity\":0.2}},\"type\":\"barpolar\"}],\"bar\":[{\"error_x\":{\"color\":\"#2a3f5f\"},\"error_y\":{\"color\":\"#2a3f5f\"},\"marker\":{\"line\":{\"color\":\"#E5ECF6\",\"width\":0.5},\"pattern\":{\"fillmode\":\"overlay\",\"size\":10,\"solidity\":0.2}},\"type\":\"bar\"}],\"carpet\":[{\"aaxis\":{\"endlinecolor\":\"#2a3f5f\",\"gridcolor\":\"white\",\"linecolor\":\"white\",\"minorgridcolor\":\"white\",\"startlinecolor\":\"#2a3f5f\"},\"baxis\":{\"endlinecolor\":\"#2a3f5f\",\"gridcolor\":\"white\",\"linecolor\":\"white\",\"minorgridcolor\":\"white\",\"startlinecolor\":\"#2a3f5f\"},\"type\":\"carpet\"}],\"choropleth\":[{\"colorbar\":{\"outlinewidth\":0,\"ticks\":\"\"},\"type\":\"choropleth\"}],\"contourcarpet\":[{\"colorbar\":{\"outlinewidth\":0,\"ticks\":\"\"},\"type\":\"contourcarpet\"}],\"contour\":[{\"colorbar\":{\"outlinewidth\":0,\"ticks\":\"\"},\"colorscale\":[[0.0,\"#0d0887\"],[0.1111111111111111,\"#46039f\"],[0.2222222222222222,\"#7201a8\"],[0.3333333333333333,\"#9c179e\"],[0.4444444444444444,\"#bd3786\"],[0.5555555555555556,\"#d8576b\"],[0.6666666666666666,\"#ed7953\"],[0.7777777777777778,\"#fb9f3a\"],[0.8888888888888888,\"#fdca26\"],[1.0,\"#f0f921\"]],\"type\":\"contour\"}],\"heatmapgl\":[{\"colorbar\":{\"outlinewidth\":0,\"ticks\":\"\"},\"colorscale\":[[0.0,\"#0d0887\"],[0.1111111111111111,\"#46039f\"],[0.2222222222222222,\"#7201a8\"],[0.3333333333333333,\"#9c179e\"],[0.4444444444444444,\"#bd3786\"],[0.5555555555555556,\"#d8576b\"],[0.6666666666666666,\"#ed7953\"],[0.7777777777777778,\"#fb9f3a\"],[0.8888888888888888,\"#fdca26\"],[1.0,\"#f0f921\"]],\"type\":\"heatmapgl\"}],\"heatmap\":[{\"colorbar\":{\"outlinewidth\":0,\"ticks\":\"\"},\"colorscale\":[[0.0,\"#0d0887\"],[0.1111111111111111,\"#46039f\"],[0.2222222222222222,\"#7201a8\"],[0.3333333333333333,\"#9c179e\"],[0.4444444444444444,\"#bd3786\"],[0.5555555555555556,\"#d8576b\"],[0.6666666666666666,\"#ed7953\"],[0.7777777777777778,\"#fb9f3a\"],[0.8888888888888888,\"#fdca26\"],[1.0,\"#f0f921\"]],\"type\":\"heatmap\"}],\"histogram2dcontour\":[{\"colorbar\":{\"outlinewidth\":0,\"ticks\":\"\"},\"colorscale\":[[0.0,\"#0d0887\"],[0.1111111111111111,\"#46039f\"],[0.2222222222222222,\"#7201a8\"],[0.3333333333333333,\"#9c179e\"],[0.4444444444444444,\"#bd3786\"],[0.5555555555555556,\"#d8576b\"],[0.6666666666666666,\"#ed7953\"],[0.7777777777777778,\"#fb9f3a\"],[0.8888888888888888,\"#fdca26\"],[1.0,\"#f0f921\"]],\"type\":\"histogram2dcontour\"}],\"histogram2d\":[{\"colorbar\":{\"outlinewidth\":0,\"ticks\":\"\"},\"colorscale\":[[0.0,\"#0d0887\"],[0.1111111111111111,\"#46039f\"],[0.2222222222222222,\"#7201a8\"],[0.3333333333333333,\"#9c179e\"],[0.4444444444444444,\"#bd3786\"],[0.5555555555555556,\"#d8576b\"],[0.6666666666666666,\"#ed7953\"],[0.7777777777777778,\"#fb9f3a\"],[0.8888888888888888,\"#fdca26\"],[1.0,\"#f0f921\"]],\"type\":\"histogram2d\"}],\"histogram\":[{\"marker\":{\"pattern\":{\"fillmode\":\"overlay\",\"size\":10,\"solidity\":0.2}},\"type\":\"histogram\"}],\"mesh3d\":[{\"colorbar\":{\"outlinewidth\":0,\"ticks\":\"\"},\"type\":\"mesh3d\"}],\"parcoords\":[{\"line\":{\"colorbar\":{\"outlinewidth\":0,\"ticks\":\"\"}},\"type\":\"parcoords\"}],\"pie\":[{\"automargin\":true,\"type\":\"pie\"}],\"scatter3d\":[{\"line\":{\"colorbar\":{\"outlinewidth\":0,\"ticks\":\"\"}},\"marker\":{\"colorbar\":{\"outlinewidth\":0,\"ticks\":\"\"}},\"type\":\"scatter3d\"}],\"scattercarpet\":[{\"marker\":{\"colorbar\":{\"outlinewidth\":0,\"ticks\":\"\"}},\"type\":\"scattercarpet\"}],\"scattergeo\":[{\"marker\":{\"colorbar\":{\"outlinewidth\":0,\"ticks\":\"\"}},\"type\":\"scattergeo\"}],\"scattergl\":[{\"marker\":{\"colorbar\":{\"outlinewidth\":0,\"ticks\":\"\"}},\"type\":\"scattergl\"}],\"scattermapbox\":[{\"marker\":{\"colorbar\":{\"outlinewidth\":0,\"ticks\":\"\"}},\"type\":\"scattermapbox\"}],\"scatterpolargl\":[{\"marker\":{\"colorbar\":{\"outlinewidth\":0,\"ticks\":\"\"}},\"type\":\"scatterpolargl\"}],\"scatterpolar\":[{\"marker\":{\"colorbar\":{\"outlinewidth\":0,\"ticks\":\"\"}},\"type\":\"scatterpolar\"}],\"scatter\":[{\"fillpattern\":{\"fillmode\":\"overlay\",\"size\":10,\"solidity\":0.2},\"type\":\"scatter\"}],\"scatterternary\":[{\"marker\":{\"colorbar\":{\"outlinewidth\":0,\"ticks\":\"\"}},\"type\":\"scatterternary\"}],\"surface\":[{\"colorbar\":{\"outlinewidth\":0,\"ticks\":\"\"},\"colorscale\":[[0.0,\"#0d0887\"],[0.1111111111111111,\"#46039f\"],[0.2222222222222222,\"#7201a8\"],[0.3333333333333333,\"#9c179e\"],[0.4444444444444444,\"#bd3786\"],[0.5555555555555556,\"#d8576b\"],[0.6666666666666666,\"#ed7953\"],[0.7777777777777778,\"#fb9f3a\"],[0.8888888888888888,\"#fdca26\"],[1.0,\"#f0f921\"]],\"type\":\"surface\"}],\"table\":[{\"cells\":{\"fill\":{\"color\":\"#EBF0F8\"},\"line\":{\"color\":\"white\"}},\"header\":{\"fill\":{\"color\":\"#C8D4E3\"},\"line\":{\"color\":\"white\"}},\"type\":\"table\"}]},\"layout\":{\"annotationdefaults\":{\"arrowcolor\":\"#2a3f5f\",\"arrowhead\":0,\"arrowwidth\":1},\"autotypenumbers\":\"strict\",\"coloraxis\":{\"colorbar\":{\"outlinewidth\":0,\"ticks\":\"\"}},\"colorscale\":{\"diverging\":[[0,\"#8e0152\"],[0.1,\"#c51b7d\"],[0.2,\"#de77ae\"],[0.3,\"#f1b6da\"],[0.4,\"#fde0ef\"],[0.5,\"#f7f7f7\"],[0.6,\"#e6f5d0\"],[0.7,\"#b8e186\"],[0.8,\"#7fbc41\"],[0.9,\"#4d9221\"],[1,\"#276419\"]],\"sequential\":[[0.0,\"#0d0887\"],[0.1111111111111111,\"#46039f\"],[0.2222222222222222,\"#7201a8\"],[0.3333333333333333,\"#9c179e\"],[0.4444444444444444,\"#bd3786\"],[0.5555555555555556,\"#d8576b\"],[0.6666666666666666,\"#ed7953\"],[0.7777777777777778,\"#fb9f3a\"],[0.8888888888888888,\"#fdca26\"],[1.0,\"#f0f921\"]],\"sequentialminus\":[[0.0,\"#0d0887\"],[0.1111111111111111,\"#46039f\"],[0.2222222222222222,\"#7201a8\"],[0.3333333333333333,\"#9c179e\"],[0.4444444444444444,\"#bd3786\"],[0.5555555555555556,\"#d8576b\"],[0.6666666666666666,\"#ed7953\"],[0.7777777777777778,\"#fb9f3a\"],[0.8888888888888888,\"#fdca26\"],[1.0,\"#f0f921\"]]},\"colorway\":[\"#636efa\",\"#EF553B\",\"#00cc96\",\"#ab63fa\",\"#FFA15A\",\"#19d3f3\",\"#FF6692\",\"#B6E880\",\"#FF97FF\",\"#FECB52\"],\"font\":{\"color\":\"#2a3f5f\"},\"geo\":{\"bgcolor\":\"white\",\"lakecolor\":\"white\",\"landcolor\":\"#E5ECF6\",\"showlakes\":true,\"showland\":true,\"subunitcolor\":\"white\"},\"hoverlabel\":{\"align\":\"left\"},\"hovermode\":\"closest\",\"mapbox\":{\"style\":\"light\"},\"paper_bgcolor\":\"white\",\"plot_bgcolor\":\"#E5ECF6\",\"polar\":{\"angularaxis\":{\"gridcolor\":\"white\",\"linecolor\":\"white\",\"ticks\":\"\"},\"bgcolor\":\"#E5ECF6\",\"radialaxis\":{\"gridcolor\":\"white\",\"linecolor\":\"white\",\"ticks\":\"\"}},\"scene\":{\"xaxis\":{\"backgroundcolor\":\"#E5ECF6\",\"gridcolor\":\"white\",\"gridwidth\":2,\"linecolor\":\"white\",\"showbackground\":true,\"ticks\":\"\",\"zerolinecolor\":\"white\"},\"yaxis\":{\"backgroundcolor\":\"#E5ECF6\",\"gridcolor\":\"white\",\"gridwidth\":2,\"linecolor\":\"white\",\"showbackground\":true,\"ticks\":\"\",\"zerolinecolor\":\"white\"},\"zaxis\":{\"backgroundcolor\":\"#E5ECF6\",\"gridcolor\":\"white\",\"gridwidth\":2,\"linecolor\":\"white\",\"showbackground\":true,\"ticks\":\"\",\"zerolinecolor\":\"white\"}},\"shapedefaults\":{\"line\":{\"color\":\"#2a3f5f\"}},\"ternary\":{\"aaxis\":{\"gridcolor\":\"white\",\"linecolor\":\"white\",\"ticks\":\"\"},\"baxis\":{\"gridcolor\":\"white\",\"linecolor\":\"white\",\"ticks\":\"\"},\"bgcolor\":\"#E5ECF6\",\"caxis\":{\"gridcolor\":\"white\",\"linecolor\":\"white\",\"ticks\":\"\"}},\"title\":{\"x\":0.05},\"xaxis\":{\"automargin\":true,\"gridcolor\":\"white\",\"linecolor\":\"white\",\"ticks\":\"\",\"title\":{\"standoff\":15},\"zerolinecolor\":\"white\",\"zerolinewidth\":2},\"yaxis\":{\"automargin\":true,\"gridcolor\":\"white\",\"linecolor\":\"white\",\"ticks\":\"\",\"title\":{\"standoff\":15},\"zerolinecolor\":\"white\",\"zerolinewidth\":2}}},\"title\":{\"text\":\"Target variable distribution\"},\"xaxis\":{\"title\":{\"text\":\"Risk Variable\"}},\"yaxis\":{\"title\":{\"text\":\"Count\"}}},                        {\"responsive\": true}                    ).then(function(){\n",
       "                            \n",
       "var gd = document.getElementById('a1f9336e-6d45-49c1-af03-5e3c98ecb000');\n",
       "var x = new MutationObserver(function (mutations, observer) {{\n",
       "        var display = window.getComputedStyle(gd).display;\n",
       "        if (!display || display === 'none') {{\n",
       "            console.log([gd, 'removed!']);\n",
       "            Plotly.purge(gd);\n",
       "            observer.disconnect();\n",
       "        }}\n",
       "}});\n",
       "\n",
       "// Listen for the removal of the full notebook cells\n",
       "var notebookContainer = gd.closest('#notebook-container');\n",
       "if (notebookContainer) {{\n",
       "    x.observe(notebookContainer, {childList: true});\n",
       "}}\n",
       "\n",
       "// Listen for the clearing of the current output cell\n",
       "var outputEl = gd.closest('.output');\n",
       "if (outputEl) {{\n",
       "    x.observe(outputEl, {childList: true});\n",
       "}}\n",
       "\n",
       "                        })                };                });            </script>        </div>"
      ]
     },
     "metadata": {},
     "output_type": "display_data"
    }
   ],
   "source": [
    "# we will work with plotly\n",
    "import plotly.offline as py \n",
    "py.init_notebook_mode(connected=True) # allow us to work with offline plotly version\n",
    "import plotly.graph_objs as go # it's like \"plt\" of matplot\n",
    "import plotly.tools as tls # useful as we get some tools of plotly\n",
    "import warnings # This library will be used to ignore some warnings\n",
    "from collections import Counter # To do counter of some features\n",
    "\n",
    "trace0 = go.Bar(\n",
    "            x = df_credit[df_credit[\"Risk\"]== 'good'][\"Risk\"].value_counts().index.values,\n",
    "            y = df_credit[df_credit[\"Risk\"]== 'good'][\"Risk\"].value_counts().values,\n",
    "            name='Good credit'\n",
    "    )\n",
    "\n",
    "trace1 = go.Bar(\n",
    "            x = df_credit[df_credit[\"Risk\"]== 'bad'][\"Risk\"].value_counts().index.values,\n",
    "            y = df_credit[df_credit[\"Risk\"]== 'bad'][\"Risk\"].value_counts().values,\n",
    "            name='Bad credit'\n",
    "    )\n",
    "\n",
    "data = [trace0, trace1]\n",
    "\n",
    "layout = go.Layout(\n",
    "    \n",
    ")\n",
    "\n",
    "layout = go.Layout(\n",
    "    yaxis=dict(\n",
    "        title='Count'\n",
    "    ),\n",
    "    xaxis=dict(\n",
    "        title='Risk Variable'\n",
    "    ),\n",
    "    title='Target variable distribution'\n",
    ")\n",
    "\n",
    "fig = go.Figure(data=data, layout=layout)\n",
    "\n",
    "py.iplot(fig, filename='grouped-bar')"
   ]
  },
  {
   "cell_type": "code",
   "execution_count": 13,
   "metadata": {},
   "outputs": [
    {
     "data": {
      "application/vnd.plotly.v1+json": {
       "config": {
        "linkText": "Export to plot.ly",
        "plotlyServerURL": "https://plot.ly",
        "showLink": false
       },
       "data": [
        {
         "histnorm": "probability",
         "name": "Good Credit",
         "type": "histogram",
         "x": [
          67,
          49,
          45,
          35,
          53,
          35,
          61,
          22,
          28,
          53,
          25,
          31,
          48,
          44,
          48,
          44,
          26,
          36,
          39,
          42,
          34,
          36,
          27,
          30,
          57,
          33,
          31,
          37,
          24,
          30,
          26,
          44,
          24,
          35,
          39,
          23,
          39,
          28,
          29,
          30,
          25,
          31,
          26,
          31,
          23,
          27,
          50,
          26,
          48,
          29,
          22,
          25,
          30,
          46,
          51,
          41,
          66,
          51,
          39,
          22,
          47,
          24,
          58,
          52,
          29,
          27,
          30,
          56,
          54,
          20,
          54,
          61,
          34,
          36,
          36,
          41,
          24,
          24,
          35,
          26,
          32,
          30,
          35,
          31,
          23,
          28,
          35,
          47,
          27,
          36,
          41,
          24,
          63,
          30,
          40,
          34,
          24,
          27,
          47,
          21,
          38,
          27,
          35,
          44,
          27,
          30,
          27,
          23,
          30,
          39,
          51,
          28,
          46,
          42,
          38,
          24,
          29,
          36,
          48,
          45,
          38,
          34,
          36,
          30,
          36,
          70,
          36,
          32,
          20,
          25,
          26,
          33,
          42,
          52,
          31,
          65,
          50,
          31,
          68,
          33,
          29,
          28,
          36,
          52,
          27,
          26,
          38,
          38,
          43,
          26,
          21,
          55,
          33,
          45,
          51,
          39,
          31,
          23,
          24,
          64,
          26,
          23,
          30,
          32,
          30,
          27,
          22,
          51,
          35,
          25,
          42,
          35,
          39,
          51,
          27,
          35,
          25,
          52,
          35,
          26,
          39,
          46,
          35,
          24,
          27,
          35,
          23,
          57,
          27,
          55,
          36,
          57,
          32,
          36,
          38,
          25,
          32,
          37,
          36,
          32,
          26,
          49,
          29,
          23,
          50,
          49,
          63,
          37,
          35,
          26,
          31,
          49,
          26,
          44,
          56,
          46,
          20,
          45,
          43,
          32,
          54,
          49,
          33,
          24,
          22,
          40,
          25,
          26,
          29,
          38,
          48,
          32,
          27,
          34,
          28,
          36,
          39,
          49,
          34,
          31,
          28,
          75,
          23,
          28,
          31,
          24,
          26,
          25,
          33,
          37,
          43,
          23,
          23,
          34,
          23,
          38,
          46,
          49,
          28,
          61,
          37,
          36,
          21,
          36,
          27,
          22,
          40,
          36,
          33,
          23,
          63,
          34,
          36,
          52,
          39,
          25,
          26,
          26,
          25,
          21,
          40,
          27,
          27,
          30,
          19,
          39,
          31,
          31,
          32,
          55,
          46,
          43,
          39,
          28,
          27,
          43,
          43,
          27,
          26,
          20,
          35,
          40,
          35,
          23,
          31,
          20,
          30,
          47,
          34,
          21,
          29,
          46,
          20,
          74,
          36,
          33,
          25,
          23,
          37,
          65,
          39,
          30,
          29,
          41,
          35,
          55,
          30,
          29,
          34,
          35,
          29,
          36,
          27,
          32,
          37,
          36,
          34,
          38,
          34,
          63,
          32,
          26,
          35,
          36,
          24,
          25,
          39,
          44,
          23,
          26,
          57,
          30,
          44,
          52,
          62,
          35,
          26,
          26,
          27,
          38,
          39,
          40,
          32,
          28,
          42,
          49,
          36,
          28,
          45,
          32,
          26,
          20,
          54,
          37,
          40,
          43,
          36,
          44,
          23,
          26,
          30,
          31,
          42,
          41,
          32,
          41,
          26,
          25,
          75,
          37,
          45,
          60,
          61,
          37,
          32,
          35,
          23,
          45,
          27,
          67,
          49,
          29,
          37,
          23,
          34,
          41,
          38,
          26,
          22,
          27,
          24,
          27,
          33,
          27,
          49,
          26,
          52,
          36,
          21,
          58,
          42,
          36,
          32,
          45,
          23,
          22,
          74,
          33,
          45,
          29,
          22,
          48,
          27,
          37,
          49,
          27,
          22,
          35,
          41,
          36,
          64,
          28,
          23,
          47,
          28,
          21,
          34,
          38,
          33,
          32,
          32,
          50,
          35,
          22,
          37,
          28,
          41,
          23,
          50,
          35,
          50,
          27,
          34,
          27,
          47,
          27,
          31,
          42,
          24,
          26,
          33,
          64,
          26,
          56,
          37,
          33,
          47,
          31,
          34,
          27,
          30,
          35,
          31,
          25,
          25,
          29,
          44,
          28,
          50,
          29,
          38,
          24,
          40,
          47,
          41,
          32,
          35,
          25,
          37,
          32,
          46,
          25,
          63,
          40,
          32,
          31,
          31,
          66,
          41,
          47,
          36,
          33,
          44,
          28,
          37,
          29,
          35,
          45,
          32,
          23,
          41,
          22,
          30,
          28,
          23,
          26,
          33,
          49,
          23,
          25,
          74,
          31,
          59,
          24,
          27,
          40,
          31,
          28,
          63,
          26,
          36,
          52,
          66,
          37,
          25,
          38,
          67,
          60,
          31,
          60,
          35,
          40,
          38,
          41,
          27,
          51,
          32,
          22,
          22,
          54,
          35,
          54,
          48,
          24,
          35,
          24,
          26,
          65,
          55,
          26,
          28,
          54,
          62,
          24,
          43,
          27,
          24,
          47,
          35,
          30,
          38,
          44,
          42,
          21,
          23,
          63,
          46,
          28,
          50,
          47,
          35,
          28,
          59,
          43,
          35,
          45,
          33,
          40,
          28,
          26,
          27,
          32,
          20,
          27,
          42,
          37,
          24,
          40,
          46,
          26,
          24,
          29,
          40,
          36,
          28,
          36,
          38,
          48,
          36,
          65,
          34,
          34,
          40,
          43,
          46,
          38,
          34,
          29,
          31,
          28,
          35,
          33,
          44,
          42,
          40,
          36,
          20,
          24,
          27,
          46,
          33,
          34,
          25,
          28,
          32,
          28,
          37,
          30,
          21,
          58,
          43,
          24,
          30,
          42,
          23,
          30,
          46,
          45,
          31,
          31,
          42,
          46,
          30,
          38,
          40,
          29,
          57,
          49,
          37,
          30,
          30,
          47,
          29,
          22,
          26,
          54,
          29,
          40,
          22,
          43,
          33,
          57,
          64,
          42,
          28,
          30,
          25,
          33,
          64,
          29,
          48,
          37,
          34,
          23,
          30,
          50,
          31,
          40,
          38,
          27
         ],
         "xaxis": "x",
         "yaxis": "y"
        },
        {
         "histnorm": "probability",
         "name": "Bad Credit",
         "type": "histogram",
         "x": [
          22,
          53,
          28,
          25,
          24,
          60,
          32,
          44,
          63,
          25,
          37,
          58,
          57,
          52,
          23,
          61,
          25,
          37,
          40,
          34,
          44,
          47,
          28,
          33,
          58,
          39,
          39,
          25,
          30,
          23,
          25,
          27,
          30,
          29,
          29,
          66,
          22,
          20,
          33,
          31,
          33,
          34,
          26,
          53,
          28,
          30,
          40,
          36,
          74,
          20,
          54,
          34,
          36,
          21,
          34,
          27,
          40,
          21,
          50,
          66,
          27,
          53,
          22,
          26,
          30,
          23,
          61,
          29,
          24,
          22,
          24,
          29,
          37,
          45,
          28,
          34,
          32,
          48,
          28,
          26,
          42,
          37,
          44,
          33,
          24,
          25,
          31,
          28,
          32,
          30,
          24,
          24,
          23,
          44,
          24,
          32,
          29,
          28,
          23,
          26,
          23,
          25,
          42,
          60,
          37,
          57,
          38,
          46,
          27,
          22,
          28,
          42,
          35,
          33,
          33,
          25,
          55,
          29,
          25,
          26,
          41,
          30,
          34,
          61,
          31,
          35,
          29,
          22,
          23,
          28,
          33,
          26,
          47,
          42,
          20,
          29,
          27,
          38,
          24,
          27,
          34,
          26,
          23,
          24,
          53,
          31,
          28,
          33,
          42,
          23,
          31,
          34,
          43,
          24,
          34,
          22,
          28,
          29,
          27,
          31,
          24,
          37,
          36,
          31,
          23,
          27,
          30,
          33,
          20,
          47,
          60,
          20,
          40,
          32,
          23,
          36,
          31,
          30,
          34,
          28,
          50,
          22,
          48,
          22,
          21,
          32,
          38,
          65,
          29,
          44,
          19,
          25,
          26,
          27,
          40,
          27,
          26,
          38,
          40,
          37,
          45,
          42,
          41,
          23,
          43,
          41,
          24,
          29,
          46,
          24,
          25,
          35,
          27,
          34,
          24,
          24,
          21,
          25,
          59,
          21,
          23,
          26,
          37,
          23,
          55,
          32,
          39,
          35,
          24,
          30,
          31,
          25,
          25,
          25,
          23,
          50,
          27,
          39,
          51,
          24,
          26,
          24,
          54,
          46,
          26,
          41,
          33,
          36,
          47,
          23,
          29,
          25,
          48,
          29,
          23,
          68,
          57,
          33,
          32,
          29,
          28,
          35,
          25,
          27,
          43,
          53,
          23,
          42,
          43,
          25,
          31,
          32,
          68,
          33,
          39,
          22,
          55,
          46,
          39,
          22,
          30,
          28,
          42,
          30,
          43,
          31,
          24,
          28,
          26,
          45,
          35,
          23,
          29,
          36,
          47,
          25,
          49,
          33,
          26,
          23
         ],
         "xaxis": "x2",
         "yaxis": "y2"
        },
        {
         "histnorm": "probability",
         "name": "Overall Age",
         "type": "histogram",
         "x": [
          67,
          22,
          49,
          45,
          53,
          35,
          53,
          35,
          61,
          28,
          25,
          24,
          22,
          60,
          28,
          32,
          53,
          25,
          44,
          31,
          48,
          44,
          48,
          44,
          26,
          36,
          39,
          42,
          34,
          63,
          36,
          27,
          30,
          57,
          33,
          25,
          31,
          37,
          37,
          24,
          30,
          26,
          44,
          24,
          58,
          35,
          39,
          23,
          39,
          28,
          29,
          30,
          25,
          31,
          57,
          26,
          52,
          31,
          23,
          23,
          27,
          50,
          61,
          25,
          26,
          48,
          29,
          22,
          37,
          25,
          30,
          46,
          51,
          41,
          40,
          66,
          34,
          51,
          39,
          22,
          44,
          47,
          24,
          58,
          52,
          29,
          27,
          47,
          30,
          28,
          56,
          54,
          33,
          20,
          54,
          58,
          61,
          34,
          36,
          36,
          41,
          24,
          24,
          35,
          26,
          39,
          39,
          32,
          30,
          35,
          31,
          23,
          28,
          25,
          35,
          47,
          30,
          27,
          23,
          36,
          25,
          41,
          24,
          63,
          27,
          30,
          40,
          30,
          34,
          29,
          24,
          29,
          27,
          47,
          21,
          38,
          27,
          66,
          35,
          44,
          27,
          30,
          27,
          22,
          23,
          30,
          39,
          51,
          28,
          46,
          42,
          38,
          24,
          29,
          36,
          20,
          48,
          45,
          38,
          34,
          36,
          30,
          36,
          70,
          36,
          32,
          33,
          20,
          25,
          31,
          33,
          26,
          34,
          33,
          26,
          53,
          42,
          52,
          31,
          65,
          28,
          30,
          40,
          50,
          36,
          31,
          74,
          68,
          20,
          33,
          54,
          34,
          36,
          29,
          21,
          34,
          28,
          27,
          36,
          40,
          52,
          27,
          26,
          21,
          38,
          38,
          43,
          26,
          21,
          55,
          33,
          45,
          50,
          66,
          51,
          39,
          31,
          23,
          24,
          64,
          26,
          23,
          30,
          32,
          30,
          27,
          27,
          53,
          22,
          22,
          26,
          51,
          35,
          25,
          42,
          30,
          23,
          61,
          35,
          39,
          29,
          51,
          24,
          27,
          35,
          25,
          52,
          35,
          26,
          22,
          39,
          46,
          24,
          35,
          24,
          27,
          35,
          29,
          23,
          57,
          27,
          55,
          36,
          57,
          32,
          37,
          36,
          38,
          45,
          25,
          32,
          37,
          36,
          28,
          34,
          32,
          26,
          49,
          32,
          29,
          23,
          50,
          49,
          63,
          37,
          35,
          26,
          31,
          49,
          48,
          26,
          28,
          44,
          56,
          46,
          26,
          20,
          45,
          43,
          32,
          54,
          42,
          37,
          49,
          44,
          33,
          24,
          33,
          24,
          22,
          40,
          25,
          26,
          25,
          29,
          31,
          38,
          48,
          32,
          27,
          28,
          32,
          34,
          28,
          36,
          39,
          49,
          34,
          31,
          28,
          75,
          30,
          24,
          24,
          23,
          44,
          23,
          24,
          28,
          31,
          24,
          26,
          25,
          33,
          37,
          43,
          23,
          23,
          34,
          32,
          23,
          29,
          38,
          28,
          46,
          23,
          49,
          26,
          28,
          23,
          61,
          37,
          36,
          21,
          25,
          36,
          27,
          22,
          42,
          40,
          36,
          33,
          23,
          63,
          60,
          37,
          34,
          36,
          57,
          52,
          39,
          38,
          25,
          26,
          26,
          25,
          21,
          40,
          27,
          27,
          30,
          19,
          39,
          31,
          31,
          32,
          55,
          46,
          46,
          43,
          39,
          28,
          27,
          27,
          43,
          22,
          43,
          27,
          26,
          28,
          20,
          35,
          42,
          40,
          35,
          35,
          33,
          23,
          31,
          33,
          20,
          30,
          47,
          34,
          25,
          21,
          29,
          46,
          20,
          55,
          74,
          29,
          36,
          33,
          25,
          25,
          23,
          37,
          65,
          26,
          39,
          30,
          29,
          41,
          30,
          41,
          34,
          35,
          55,
          61,
          30,
          29,
          34,
          35,
          31,
          29,
          36,
          35,
          27,
          32,
          37,
          36,
          34,
          38,
          34,
          63,
          29,
          32,
          26,
          35,
          22,
          23,
          28,
          36,
          33,
          26,
          24,
          25,
          39,
          44,
          23,
          26,
          57,
          30,
          44,
          47,
          52,
          62,
          35,
          26,
          26,
          42,
          27,
          38,
          39,
          20,
          29,
          40,
          32,
          28,
          27,
          42,
          49,
          38,
          24,
          27,
          36,
          34,
          28,
          45,
          26,
          32,
          26,
          20,
          54,
          37,
          40,
          23,
          43,
          36,
          44,
          24,
          53,
          23,
          26,
          30,
          31,
          42,
          31,
          41,
          32,
          28,
          41,
          26,
          25,
          33,
          75,
          37,
          42,
          45,
          23,
          60,
          31,
          34,
          61,
          43,
          37,
          32,
          24,
          35,
          23,
          45,
          34,
          27,
          67,
          22,
          28,
          29,
          27,
          31,
          49,
          24,
          29,
          37,
          37,
          23,
          36,
          34,
          41,
          31,
          23,
          38,
          26,
          22,
          27,
          24,
          27,
          33,
          27,
          27,
          30,
          49,
          26,
          33,
          52,
          20,
          36,
          21,
          47,
          60,
          58,
          42,
          36,
          20,
          40,
          32,
          23,
          36,
          31,
          32,
          45,
          30,
          34,
          28,
          23,
          22,
          74,
          50,
          33,
          45,
          22,
          48,
          29,
          22,
          22,
          48,
          27,
          37,
          21,
          49,
          27,
          32,
          38,
          22,
          65,
          35,
          41,
          29,
          36,
          64,
          28,
          44,
          23,
          19,
          25,
          47,
          28,
          21,
          34,
          26,
          27,
          38,
          40,
          33,
          32,
          27,
          32,
          26,
          38,
          40,
          50,
          37,
          45,
          42,
          35,
          22,
          41,
          37,
          28,
          41,
          23,
          23,
          50,
          35,
          50,
          27,
          34,
          27,
          43,
          47,
          27,
          31,
          42,
          24,
          41,
          26,
          33,
          24,
          64,
          26,
          56,
          37,
          33,
          47,
          31,
          34,
          27,
          30,
          35,
          31,
          25,
          25,
          29,
          44,
          28,
          50,
          29,
          38,
          24,
          40,
          29,
          46,
          47,
          41,
          32,
          35,
          24,
          25,
          25,
          37,
          32,
          35,
          46,
          25,
          27,
          63,
          40,
          32,
          31,
          31,
          34,
          24,
          24,
          66,
          21,
          41,
          47,
          25,
          59,
          36,
          33,
          21,
          44,
          28,
          37,
          29,
          23,
          35,
          45,
          26,
          32,
          23,
          41,
          22,
          30,
          28,
          23,
          37,
          26,
          33,
          49,
          23,
          23,
          25,
          55,
          32,
          74,
          39,
          31,
          35,
          59,
          24,
          24,
          30,
          27,
          40,
          31,
          31,
          28,
          63,
          26,
          25,
          36,
          52,
          66,
          25,
          37,
          25,
          38,
          67,
          25,
          60,
          31,
          23,
          60,
          35,
          40,
          38,
          50,
          27,
          39,
          41,
          27,
          51,
          32,
          22,
          51,
          22,
          54,
          35,
          54,
          48,
          24,
          35,
          24,
          24,
          26,
          65,
          55,
          26,
          26,
          28,
          24,
          54,
          46,
          54,
          62,
          24,
          43,
          26,
          27,
          24,
          41,
          47,
          35,
          30,
          33,
          36,
          47,
          38,
          44,
          23,
          29,
          42,
          25,
          48,
          21,
          23,
          63,
          46,
          29,
          28,
          23,
          50,
          47,
          35,
          68,
          28,
          59,
          57,
          33,
          43,
          35,
          32,
          45,
          33,
          40,
          28,
          29,
          26,
          27,
          28,
          35,
          32,
          25,
          20,
          27,
          42,
          37,
          24,
          40,
          46,
          26,
          24,
          29,
          40,
          36,
          28,
          27,
          36,
          38,
          48,
          36,
          65,
          43,
          53,
          34,
          23,
          34,
          40,
          43,
          46,
          38,
          34,
          29,
          31,
          28,
          35,
          33,
          42,
          43,
          44,
          42,
          40,
          36,
          20,
          24,
          27,
          46,
          33,
          34,
          25,
          25,
          28,
          31,
          32,
          32,
          68,
          33,
          39,
          28,
          37,
          22,
          30,
          55,
          46,
          21,
          39,
          58,
          43,
          24,
          22,
          30,
          42,
          23,
          30,
          28,
          30,
          42,
          46,
          45,
          31,
          31,
          42,
          46,
          30,
          30,
          38,
          43,
          31,
          40,
          24,
          28,
          26,
          29,
          57,
          49,
          37,
          45,
          30,
          30,
          47,
          29,
          35,
          22,
          26,
          23,
          54,
          29,
          40,
          22,
          43,
          29,
          36,
          33,
          57,
          64,
          42,
          47,
          25,
          49,
          33,
          28,
          26,
          30,
          25,
          33,
          64,
          29,
          48,
          37,
          34,
          23,
          30,
          50,
          31,
          40,
          38,
          23,
          27
         ],
         "xaxis": "x3",
         "yaxis": "y3"
        }
       ],
       "layout": {
        "annotations": [
         {
          "font": {
           "size": 16
          },
          "showarrow": false,
          "text": "Good",
          "x": 0.225,
          "xanchor": "center",
          "xref": "paper",
          "y": 1,
          "yanchor": "bottom",
          "yref": "paper"
         },
         {
          "font": {
           "size": 16
          },
          "showarrow": false,
          "text": "Bad",
          "x": 0.775,
          "xanchor": "center",
          "xref": "paper",
          "y": 1,
          "yanchor": "bottom",
          "yref": "paper"
         },
         {
          "font": {
           "size": 16
          },
          "showarrow": false,
          "text": "General Distribution",
          "x": 0.5,
          "xanchor": "center",
          "xref": "paper",
          "y": 0.375,
          "yanchor": "bottom",
          "yref": "paper"
         }
        ],
        "bargap": 0.05,
        "showlegend": true,
        "template": {
         "data": {
          "bar": [
           {
            "error_x": {
             "color": "#2a3f5f"
            },
            "error_y": {
             "color": "#2a3f5f"
            },
            "marker": {
             "line": {
              "color": "#E5ECF6",
              "width": 0.5
             },
             "pattern": {
              "fillmode": "overlay",
              "size": 10,
              "solidity": 0.2
             }
            },
            "type": "bar"
           }
          ],
          "barpolar": [
           {
            "marker": {
             "line": {
              "color": "#E5ECF6",
              "width": 0.5
             },
             "pattern": {
              "fillmode": "overlay",
              "size": 10,
              "solidity": 0.2
             }
            },
            "type": "barpolar"
           }
          ],
          "carpet": [
           {
            "aaxis": {
             "endlinecolor": "#2a3f5f",
             "gridcolor": "white",
             "linecolor": "white",
             "minorgridcolor": "white",
             "startlinecolor": "#2a3f5f"
            },
            "baxis": {
             "endlinecolor": "#2a3f5f",
             "gridcolor": "white",
             "linecolor": "white",
             "minorgridcolor": "white",
             "startlinecolor": "#2a3f5f"
            },
            "type": "carpet"
           }
          ],
          "choropleth": [
           {
            "colorbar": {
             "outlinewidth": 0,
             "ticks": ""
            },
            "type": "choropleth"
           }
          ],
          "contour": [
           {
            "colorbar": {
             "outlinewidth": 0,
             "ticks": ""
            },
            "colorscale": [
             [
              0,
              "#0d0887"
             ],
             [
              0.1111111111111111,
              "#46039f"
             ],
             [
              0.2222222222222222,
              "#7201a8"
             ],
             [
              0.3333333333333333,
              "#9c179e"
             ],
             [
              0.4444444444444444,
              "#bd3786"
             ],
             [
              0.5555555555555556,
              "#d8576b"
             ],
             [
              0.6666666666666666,
              "#ed7953"
             ],
             [
              0.7777777777777778,
              "#fb9f3a"
             ],
             [
              0.8888888888888888,
              "#fdca26"
             ],
             [
              1,
              "#f0f921"
             ]
            ],
            "type": "contour"
           }
          ],
          "contourcarpet": [
           {
            "colorbar": {
             "outlinewidth": 0,
             "ticks": ""
            },
            "type": "contourcarpet"
           }
          ],
          "heatmap": [
           {
            "colorbar": {
             "outlinewidth": 0,
             "ticks": ""
            },
            "colorscale": [
             [
              0,
              "#0d0887"
             ],
             [
              0.1111111111111111,
              "#46039f"
             ],
             [
              0.2222222222222222,
              "#7201a8"
             ],
             [
              0.3333333333333333,
              "#9c179e"
             ],
             [
              0.4444444444444444,
              "#bd3786"
             ],
             [
              0.5555555555555556,
              "#d8576b"
             ],
             [
              0.6666666666666666,
              "#ed7953"
             ],
             [
              0.7777777777777778,
              "#fb9f3a"
             ],
             [
              0.8888888888888888,
              "#fdca26"
             ],
             [
              1,
              "#f0f921"
             ]
            ],
            "type": "heatmap"
           }
          ],
          "heatmapgl": [
           {
            "colorbar": {
             "outlinewidth": 0,
             "ticks": ""
            },
            "colorscale": [
             [
              0,
              "#0d0887"
             ],
             [
              0.1111111111111111,
              "#46039f"
             ],
             [
              0.2222222222222222,
              "#7201a8"
             ],
             [
              0.3333333333333333,
              "#9c179e"
             ],
             [
              0.4444444444444444,
              "#bd3786"
             ],
             [
              0.5555555555555556,
              "#d8576b"
             ],
             [
              0.6666666666666666,
              "#ed7953"
             ],
             [
              0.7777777777777778,
              "#fb9f3a"
             ],
             [
              0.8888888888888888,
              "#fdca26"
             ],
             [
              1,
              "#f0f921"
             ]
            ],
            "type": "heatmapgl"
           }
          ],
          "histogram": [
           {
            "marker": {
             "pattern": {
              "fillmode": "overlay",
              "size": 10,
              "solidity": 0.2
             }
            },
            "type": "histogram"
           }
          ],
          "histogram2d": [
           {
            "colorbar": {
             "outlinewidth": 0,
             "ticks": ""
            },
            "colorscale": [
             [
              0,
              "#0d0887"
             ],
             [
              0.1111111111111111,
              "#46039f"
             ],
             [
              0.2222222222222222,
              "#7201a8"
             ],
             [
              0.3333333333333333,
              "#9c179e"
             ],
             [
              0.4444444444444444,
              "#bd3786"
             ],
             [
              0.5555555555555556,
              "#d8576b"
             ],
             [
              0.6666666666666666,
              "#ed7953"
             ],
             [
              0.7777777777777778,
              "#fb9f3a"
             ],
             [
              0.8888888888888888,
              "#fdca26"
             ],
             [
              1,
              "#f0f921"
             ]
            ],
            "type": "histogram2d"
           }
          ],
          "histogram2dcontour": [
           {
            "colorbar": {
             "outlinewidth": 0,
             "ticks": ""
            },
            "colorscale": [
             [
              0,
              "#0d0887"
             ],
             [
              0.1111111111111111,
              "#46039f"
             ],
             [
              0.2222222222222222,
              "#7201a8"
             ],
             [
              0.3333333333333333,
              "#9c179e"
             ],
             [
              0.4444444444444444,
              "#bd3786"
             ],
             [
              0.5555555555555556,
              "#d8576b"
             ],
             [
              0.6666666666666666,
              "#ed7953"
             ],
             [
              0.7777777777777778,
              "#fb9f3a"
             ],
             [
              0.8888888888888888,
              "#fdca26"
             ],
             [
              1,
              "#f0f921"
             ]
            ],
            "type": "histogram2dcontour"
           }
          ],
          "mesh3d": [
           {
            "colorbar": {
             "outlinewidth": 0,
             "ticks": ""
            },
            "type": "mesh3d"
           }
          ],
          "parcoords": [
           {
            "line": {
             "colorbar": {
              "outlinewidth": 0,
              "ticks": ""
             }
            },
            "type": "parcoords"
           }
          ],
          "pie": [
           {
            "automargin": true,
            "type": "pie"
           }
          ],
          "scatter": [
           {
            "fillpattern": {
             "fillmode": "overlay",
             "size": 10,
             "solidity": 0.2
            },
            "type": "scatter"
           }
          ],
          "scatter3d": [
           {
            "line": {
             "colorbar": {
              "outlinewidth": 0,
              "ticks": ""
             }
            },
            "marker": {
             "colorbar": {
              "outlinewidth": 0,
              "ticks": ""
             }
            },
            "type": "scatter3d"
           }
          ],
          "scattercarpet": [
           {
            "marker": {
             "colorbar": {
              "outlinewidth": 0,
              "ticks": ""
             }
            },
            "type": "scattercarpet"
           }
          ],
          "scattergeo": [
           {
            "marker": {
             "colorbar": {
              "outlinewidth": 0,
              "ticks": ""
             }
            },
            "type": "scattergeo"
           }
          ],
          "scattergl": [
           {
            "marker": {
             "colorbar": {
              "outlinewidth": 0,
              "ticks": ""
             }
            },
            "type": "scattergl"
           }
          ],
          "scattermapbox": [
           {
            "marker": {
             "colorbar": {
              "outlinewidth": 0,
              "ticks": ""
             }
            },
            "type": "scattermapbox"
           }
          ],
          "scatterpolar": [
           {
            "marker": {
             "colorbar": {
              "outlinewidth": 0,
              "ticks": ""
             }
            },
            "type": "scatterpolar"
           }
          ],
          "scatterpolargl": [
           {
            "marker": {
             "colorbar": {
              "outlinewidth": 0,
              "ticks": ""
             }
            },
            "type": "scatterpolargl"
           }
          ],
          "scatterternary": [
           {
            "marker": {
             "colorbar": {
              "outlinewidth": 0,
              "ticks": ""
             }
            },
            "type": "scatterternary"
           }
          ],
          "surface": [
           {
            "colorbar": {
             "outlinewidth": 0,
             "ticks": ""
            },
            "colorscale": [
             [
              0,
              "#0d0887"
             ],
             [
              0.1111111111111111,
              "#46039f"
             ],
             [
              0.2222222222222222,
              "#7201a8"
             ],
             [
              0.3333333333333333,
              "#9c179e"
             ],
             [
              0.4444444444444444,
              "#bd3786"
             ],
             [
              0.5555555555555556,
              "#d8576b"
             ],
             [
              0.6666666666666666,
              "#ed7953"
             ],
             [
              0.7777777777777778,
              "#fb9f3a"
             ],
             [
              0.8888888888888888,
              "#fdca26"
             ],
             [
              1,
              "#f0f921"
             ]
            ],
            "type": "surface"
           }
          ],
          "table": [
           {
            "cells": {
             "fill": {
              "color": "#EBF0F8"
             },
             "line": {
              "color": "white"
             }
            },
            "header": {
             "fill": {
              "color": "#C8D4E3"
             },
             "line": {
              "color": "white"
             }
            },
            "type": "table"
           }
          ]
         },
         "layout": {
          "annotationdefaults": {
           "arrowcolor": "#2a3f5f",
           "arrowhead": 0,
           "arrowwidth": 1
          },
          "autotypenumbers": "strict",
          "coloraxis": {
           "colorbar": {
            "outlinewidth": 0,
            "ticks": ""
           }
          },
          "colorscale": {
           "diverging": [
            [
             0,
             "#8e0152"
            ],
            [
             0.1,
             "#c51b7d"
            ],
            [
             0.2,
             "#de77ae"
            ],
            [
             0.3,
             "#f1b6da"
            ],
            [
             0.4,
             "#fde0ef"
            ],
            [
             0.5,
             "#f7f7f7"
            ],
            [
             0.6,
             "#e6f5d0"
            ],
            [
             0.7,
             "#b8e186"
            ],
            [
             0.8,
             "#7fbc41"
            ],
            [
             0.9,
             "#4d9221"
            ],
            [
             1,
             "#276419"
            ]
           ],
           "sequential": [
            [
             0,
             "#0d0887"
            ],
            [
             0.1111111111111111,
             "#46039f"
            ],
            [
             0.2222222222222222,
             "#7201a8"
            ],
            [
             0.3333333333333333,
             "#9c179e"
            ],
            [
             0.4444444444444444,
             "#bd3786"
            ],
            [
             0.5555555555555556,
             "#d8576b"
            ],
            [
             0.6666666666666666,
             "#ed7953"
            ],
            [
             0.7777777777777778,
             "#fb9f3a"
            ],
            [
             0.8888888888888888,
             "#fdca26"
            ],
            [
             1,
             "#f0f921"
            ]
           ],
           "sequentialminus": [
            [
             0,
             "#0d0887"
            ],
            [
             0.1111111111111111,
             "#46039f"
            ],
            [
             0.2222222222222222,
             "#7201a8"
            ],
            [
             0.3333333333333333,
             "#9c179e"
            ],
            [
             0.4444444444444444,
             "#bd3786"
            ],
            [
             0.5555555555555556,
             "#d8576b"
            ],
            [
             0.6666666666666666,
             "#ed7953"
            ],
            [
             0.7777777777777778,
             "#fb9f3a"
            ],
            [
             0.8888888888888888,
             "#fdca26"
            ],
            [
             1,
             "#f0f921"
            ]
           ]
          },
          "colorway": [
           "#636efa",
           "#EF553B",
           "#00cc96",
           "#ab63fa",
           "#FFA15A",
           "#19d3f3",
           "#FF6692",
           "#B6E880",
           "#FF97FF",
           "#FECB52"
          ],
          "font": {
           "color": "#2a3f5f"
          },
          "geo": {
           "bgcolor": "white",
           "lakecolor": "white",
           "landcolor": "#E5ECF6",
           "showlakes": true,
           "showland": true,
           "subunitcolor": "white"
          },
          "hoverlabel": {
           "align": "left"
          },
          "hovermode": "closest",
          "mapbox": {
           "style": "light"
          },
          "paper_bgcolor": "white",
          "plot_bgcolor": "#E5ECF6",
          "polar": {
           "angularaxis": {
            "gridcolor": "white",
            "linecolor": "white",
            "ticks": ""
           },
           "bgcolor": "#E5ECF6",
           "radialaxis": {
            "gridcolor": "white",
            "linecolor": "white",
            "ticks": ""
           }
          },
          "scene": {
           "xaxis": {
            "backgroundcolor": "#E5ECF6",
            "gridcolor": "white",
            "gridwidth": 2,
            "linecolor": "white",
            "showbackground": true,
            "ticks": "",
            "zerolinecolor": "white"
           },
           "yaxis": {
            "backgroundcolor": "#E5ECF6",
            "gridcolor": "white",
            "gridwidth": 2,
            "linecolor": "white",
            "showbackground": true,
            "ticks": "",
            "zerolinecolor": "white"
           },
           "zaxis": {
            "backgroundcolor": "#E5ECF6",
            "gridcolor": "white",
            "gridwidth": 2,
            "linecolor": "white",
            "showbackground": true,
            "ticks": "",
            "zerolinecolor": "white"
           }
          },
          "shapedefaults": {
           "line": {
            "color": "#2a3f5f"
           }
          },
          "ternary": {
           "aaxis": {
            "gridcolor": "white",
            "linecolor": "white",
            "ticks": ""
           },
           "baxis": {
            "gridcolor": "white",
            "linecolor": "white",
            "ticks": ""
           },
           "bgcolor": "#E5ECF6",
           "caxis": {
            "gridcolor": "white",
            "linecolor": "white",
            "ticks": ""
           }
          },
          "title": {
           "x": 0.05
          },
          "xaxis": {
           "automargin": true,
           "gridcolor": "white",
           "linecolor": "white",
           "ticks": "",
           "title": {
            "standoff": 15
           },
           "zerolinecolor": "white",
           "zerolinewidth": 2
          },
          "yaxis": {
           "automargin": true,
           "gridcolor": "white",
           "linecolor": "white",
           "ticks": "",
           "title": {
            "standoff": 15
           },
           "zerolinecolor": "white",
           "zerolinewidth": 2
          }
         }
        },
        "title": {
         "text": "Age Distribution"
        },
        "xaxis": {
         "anchor": "y",
         "domain": [
          0,
          0.45
         ]
        },
        "xaxis2": {
         "anchor": "y2",
         "domain": [
          0.55,
          1
         ]
        },
        "xaxis3": {
         "anchor": "y3",
         "domain": [
          0,
          1
         ]
        },
        "yaxis": {
         "anchor": "x",
         "domain": [
          0.625,
          1
         ]
        },
        "yaxis2": {
         "anchor": "x2",
         "domain": [
          0.625,
          1
         ]
        },
        "yaxis3": {
         "anchor": "x3",
         "domain": [
          0,
          0.375
         ]
        }
       }
      },
      "text/html": [
       "<div>                            <div id=\"7bd308d9-e766-4504-b799-c662b7bc4fc7\" class=\"plotly-graph-div\" style=\"height:525px; width:100%;\"></div>            <script type=\"text/javascript\">                require([\"plotly\"], function(Plotly) {                    window.PLOTLYENV=window.PLOTLYENV || {};                                    if (document.getElementById(\"7bd308d9-e766-4504-b799-c662b7bc4fc7\")) {                    Plotly.newPlot(                        \"7bd308d9-e766-4504-b799-c662b7bc4fc7\",                        [{\"histnorm\":\"probability\",\"name\":\"Good Credit\",\"x\":[67,49,45,35,53,35,61,22,28,53,25,31,48,44,48,44,26,36,39,42,34,36,27,30,57,33,31,37,24,30,26,44,24,35,39,23,39,28,29,30,25,31,26,31,23,27,50,26,48,29,22,25,30,46,51,41,66,51,39,22,47,24,58,52,29,27,30,56,54,20,54,61,34,36,36,41,24,24,35,26,32,30,35,31,23,28,35,47,27,36,41,24,63,30,40,34,24,27,47,21,38,27,35,44,27,30,27,23,30,39,51,28,46,42,38,24,29,36,48,45,38,34,36,30,36,70,36,32,20,25,26,33,42,52,31,65,50,31,68,33,29,28,36,52,27,26,38,38,43,26,21,55,33,45,51,39,31,23,24,64,26,23,30,32,30,27,22,51,35,25,42,35,39,51,27,35,25,52,35,26,39,46,35,24,27,35,23,57,27,55,36,57,32,36,38,25,32,37,36,32,26,49,29,23,50,49,63,37,35,26,31,49,26,44,56,46,20,45,43,32,54,49,33,24,22,40,25,26,29,38,48,32,27,34,28,36,39,49,34,31,28,75,23,28,31,24,26,25,33,37,43,23,23,34,23,38,46,49,28,61,37,36,21,36,27,22,40,36,33,23,63,34,36,52,39,25,26,26,25,21,40,27,27,30,19,39,31,31,32,55,46,43,39,28,27,43,43,27,26,20,35,40,35,23,31,20,30,47,34,21,29,46,20,74,36,33,25,23,37,65,39,30,29,41,35,55,30,29,34,35,29,36,27,32,37,36,34,38,34,63,32,26,35,36,24,25,39,44,23,26,57,30,44,52,62,35,26,26,27,38,39,40,32,28,42,49,36,28,45,32,26,20,54,37,40,43,36,44,23,26,30,31,42,41,32,41,26,25,75,37,45,60,61,37,32,35,23,45,27,67,49,29,37,23,34,41,38,26,22,27,24,27,33,27,49,26,52,36,21,58,42,36,32,45,23,22,74,33,45,29,22,48,27,37,49,27,22,35,41,36,64,28,23,47,28,21,34,38,33,32,32,50,35,22,37,28,41,23,50,35,50,27,34,27,47,27,31,42,24,26,33,64,26,56,37,33,47,31,34,27,30,35,31,25,25,29,44,28,50,29,38,24,40,47,41,32,35,25,37,32,46,25,63,40,32,31,31,66,41,47,36,33,44,28,37,29,35,45,32,23,41,22,30,28,23,26,33,49,23,25,74,31,59,24,27,40,31,28,63,26,36,52,66,37,25,38,67,60,31,60,35,40,38,41,27,51,32,22,22,54,35,54,48,24,35,24,26,65,55,26,28,54,62,24,43,27,24,47,35,30,38,44,42,21,23,63,46,28,50,47,35,28,59,43,35,45,33,40,28,26,27,32,20,27,42,37,24,40,46,26,24,29,40,36,28,36,38,48,36,65,34,34,40,43,46,38,34,29,31,28,35,33,44,42,40,36,20,24,27,46,33,34,25,28,32,28,37,30,21,58,43,24,30,42,23,30,46,45,31,31,42,46,30,38,40,29,57,49,37,30,30,47,29,22,26,54,29,40,22,43,33,57,64,42,28,30,25,33,64,29,48,37,34,23,30,50,31,40,38,27],\"xaxis\":\"x\",\"yaxis\":\"y\",\"type\":\"histogram\"},{\"histnorm\":\"probability\",\"name\":\"Bad Credit\",\"x\":[22,53,28,25,24,60,32,44,63,25,37,58,57,52,23,61,25,37,40,34,44,47,28,33,58,39,39,25,30,23,25,27,30,29,29,66,22,20,33,31,33,34,26,53,28,30,40,36,74,20,54,34,36,21,34,27,40,21,50,66,27,53,22,26,30,23,61,29,24,22,24,29,37,45,28,34,32,48,28,26,42,37,44,33,24,25,31,28,32,30,24,24,23,44,24,32,29,28,23,26,23,25,42,60,37,57,38,46,27,22,28,42,35,33,33,25,55,29,25,26,41,30,34,61,31,35,29,22,23,28,33,26,47,42,20,29,27,38,24,27,34,26,23,24,53,31,28,33,42,23,31,34,43,24,34,22,28,29,27,31,24,37,36,31,23,27,30,33,20,47,60,20,40,32,23,36,31,30,34,28,50,22,48,22,21,32,38,65,29,44,19,25,26,27,40,27,26,38,40,37,45,42,41,23,43,41,24,29,46,24,25,35,27,34,24,24,21,25,59,21,23,26,37,23,55,32,39,35,24,30,31,25,25,25,23,50,27,39,51,24,26,24,54,46,26,41,33,36,47,23,29,25,48,29,23,68,57,33,32,29,28,35,25,27,43,53,23,42,43,25,31,32,68,33,39,22,55,46,39,22,30,28,42,30,43,31,24,28,26,45,35,23,29,36,47,25,49,33,26,23],\"xaxis\":\"x2\",\"yaxis\":\"y2\",\"type\":\"histogram\"},{\"histnorm\":\"probability\",\"name\":\"Overall Age\",\"x\":[67,22,49,45,53,35,53,35,61,28,25,24,22,60,28,32,53,25,44,31,48,44,48,44,26,36,39,42,34,63,36,27,30,57,33,25,31,37,37,24,30,26,44,24,58,35,39,23,39,28,29,30,25,31,57,26,52,31,23,23,27,50,61,25,26,48,29,22,37,25,30,46,51,41,40,66,34,51,39,22,44,47,24,58,52,29,27,47,30,28,56,54,33,20,54,58,61,34,36,36,41,24,24,35,26,39,39,32,30,35,31,23,28,25,35,47,30,27,23,36,25,41,24,63,27,30,40,30,34,29,24,29,27,47,21,38,27,66,35,44,27,30,27,22,23,30,39,51,28,46,42,38,24,29,36,20,48,45,38,34,36,30,36,70,36,32,33,20,25,31,33,26,34,33,26,53,42,52,31,65,28,30,40,50,36,31,74,68,20,33,54,34,36,29,21,34,28,27,36,40,52,27,26,21,38,38,43,26,21,55,33,45,50,66,51,39,31,23,24,64,26,23,30,32,30,27,27,53,22,22,26,51,35,25,42,30,23,61,35,39,29,51,24,27,35,25,52,35,26,22,39,46,24,35,24,27,35,29,23,57,27,55,36,57,32,37,36,38,45,25,32,37,36,28,34,32,26,49,32,29,23,50,49,63,37,35,26,31,49,48,26,28,44,56,46,26,20,45,43,32,54,42,37,49,44,33,24,33,24,22,40,25,26,25,29,31,38,48,32,27,28,32,34,28,36,39,49,34,31,28,75,30,24,24,23,44,23,24,28,31,24,26,25,33,37,43,23,23,34,32,23,29,38,28,46,23,49,26,28,23,61,37,36,21,25,36,27,22,42,40,36,33,23,63,60,37,34,36,57,52,39,38,25,26,26,25,21,40,27,27,30,19,39,31,31,32,55,46,46,43,39,28,27,27,43,22,43,27,26,28,20,35,42,40,35,35,33,23,31,33,20,30,47,34,25,21,29,46,20,55,74,29,36,33,25,25,23,37,65,26,39,30,29,41,30,41,34,35,55,61,30,29,34,35,31,29,36,35,27,32,37,36,34,38,34,63,29,32,26,35,22,23,28,36,33,26,24,25,39,44,23,26,57,30,44,47,52,62,35,26,26,42,27,38,39,20,29,40,32,28,27,42,49,38,24,27,36,34,28,45,26,32,26,20,54,37,40,23,43,36,44,24,53,23,26,30,31,42,31,41,32,28,41,26,25,33,75,37,42,45,23,60,31,34,61,43,37,32,24,35,23,45,34,27,67,22,28,29,27,31,49,24,29,37,37,23,36,34,41,31,23,38,26,22,27,24,27,33,27,27,30,49,26,33,52,20,36,21,47,60,58,42,36,20,40,32,23,36,31,32,45,30,34,28,23,22,74,50,33,45,22,48,29,22,22,48,27,37,21,49,27,32,38,22,65,35,41,29,36,64,28,44,23,19,25,47,28,21,34,26,27,38,40,33,32,27,32,26,38,40,50,37,45,42,35,22,41,37,28,41,23,23,50,35,50,27,34,27,43,47,27,31,42,24,41,26,33,24,64,26,56,37,33,47,31,34,27,30,35,31,25,25,29,44,28,50,29,38,24,40,29,46,47,41,32,35,24,25,25,37,32,35,46,25,27,63,40,32,31,31,34,24,24,66,21,41,47,25,59,36,33,21,44,28,37,29,23,35,45,26,32,23,41,22,30,28,23,37,26,33,49,23,23,25,55,32,74,39,31,35,59,24,24,30,27,40,31,31,28,63,26,25,36,52,66,25,37,25,38,67,25,60,31,23,60,35,40,38,50,27,39,41,27,51,32,22,51,22,54,35,54,48,24,35,24,24,26,65,55,26,26,28,24,54,46,54,62,24,43,26,27,24,41,47,35,30,33,36,47,38,44,23,29,42,25,48,21,23,63,46,29,28,23,50,47,35,68,28,59,57,33,43,35,32,45,33,40,28,29,26,27,28,35,32,25,20,27,42,37,24,40,46,26,24,29,40,36,28,27,36,38,48,36,65,43,53,34,23,34,40,43,46,38,34,29,31,28,35,33,42,43,44,42,40,36,20,24,27,46,33,34,25,25,28,31,32,32,68,33,39,28,37,22,30,55,46,21,39,58,43,24,22,30,42,23,30,28,30,42,46,45,31,31,42,46,30,30,38,43,31,40,24,28,26,29,57,49,37,45,30,30,47,29,35,22,26,23,54,29,40,22,43,29,36,33,57,64,42,47,25,49,33,28,26,30,25,33,64,29,48,37,34,23,30,50,31,40,38,23,27],\"xaxis\":\"x3\",\"yaxis\":\"y3\",\"type\":\"histogram\"}],                        {\"annotations\":[{\"font\":{\"size\":16},\"showarrow\":false,\"text\":\"Good\",\"x\":0.225,\"xanchor\":\"center\",\"xref\":\"paper\",\"y\":1.0,\"yanchor\":\"bottom\",\"yref\":\"paper\"},{\"font\":{\"size\":16},\"showarrow\":false,\"text\":\"Bad\",\"x\":0.775,\"xanchor\":\"center\",\"xref\":\"paper\",\"y\":1.0,\"yanchor\":\"bottom\",\"yref\":\"paper\"},{\"font\":{\"size\":16},\"showarrow\":false,\"text\":\"General Distribution\",\"x\":0.5,\"xanchor\":\"center\",\"xref\":\"paper\",\"y\":0.375,\"yanchor\":\"bottom\",\"yref\":\"paper\"}],\"bargap\":0.05,\"showlegend\":true,\"template\":{\"data\":{\"barpolar\":[{\"marker\":{\"line\":{\"color\":\"#E5ECF6\",\"width\":0.5},\"pattern\":{\"fillmode\":\"overlay\",\"size\":10,\"solidity\":0.2}},\"type\":\"barpolar\"}],\"bar\":[{\"error_x\":{\"color\":\"#2a3f5f\"},\"error_y\":{\"color\":\"#2a3f5f\"},\"marker\":{\"line\":{\"color\":\"#E5ECF6\",\"width\":0.5},\"pattern\":{\"fillmode\":\"overlay\",\"size\":10,\"solidity\":0.2}},\"type\":\"bar\"}],\"carpet\":[{\"aaxis\":{\"endlinecolor\":\"#2a3f5f\",\"gridcolor\":\"white\",\"linecolor\":\"white\",\"minorgridcolor\":\"white\",\"startlinecolor\":\"#2a3f5f\"},\"baxis\":{\"endlinecolor\":\"#2a3f5f\",\"gridcolor\":\"white\",\"linecolor\":\"white\",\"minorgridcolor\":\"white\",\"startlinecolor\":\"#2a3f5f\"},\"type\":\"carpet\"}],\"choropleth\":[{\"colorbar\":{\"outlinewidth\":0,\"ticks\":\"\"},\"type\":\"choropleth\"}],\"contourcarpet\":[{\"colorbar\":{\"outlinewidth\":0,\"ticks\":\"\"},\"type\":\"contourcarpet\"}],\"contour\":[{\"colorbar\":{\"outlinewidth\":0,\"ticks\":\"\"},\"colorscale\":[[0.0,\"#0d0887\"],[0.1111111111111111,\"#46039f\"],[0.2222222222222222,\"#7201a8\"],[0.3333333333333333,\"#9c179e\"],[0.4444444444444444,\"#bd3786\"],[0.5555555555555556,\"#d8576b\"],[0.6666666666666666,\"#ed7953\"],[0.7777777777777778,\"#fb9f3a\"],[0.8888888888888888,\"#fdca26\"],[1.0,\"#f0f921\"]],\"type\":\"contour\"}],\"heatmapgl\":[{\"colorbar\":{\"outlinewidth\":0,\"ticks\":\"\"},\"colorscale\":[[0.0,\"#0d0887\"],[0.1111111111111111,\"#46039f\"],[0.2222222222222222,\"#7201a8\"],[0.3333333333333333,\"#9c179e\"],[0.4444444444444444,\"#bd3786\"],[0.5555555555555556,\"#d8576b\"],[0.6666666666666666,\"#ed7953\"],[0.7777777777777778,\"#fb9f3a\"],[0.8888888888888888,\"#fdca26\"],[1.0,\"#f0f921\"]],\"type\":\"heatmapgl\"}],\"heatmap\":[{\"colorbar\":{\"outlinewidth\":0,\"ticks\":\"\"},\"colorscale\":[[0.0,\"#0d0887\"],[0.1111111111111111,\"#46039f\"],[0.2222222222222222,\"#7201a8\"],[0.3333333333333333,\"#9c179e\"],[0.4444444444444444,\"#bd3786\"],[0.5555555555555556,\"#d8576b\"],[0.6666666666666666,\"#ed7953\"],[0.7777777777777778,\"#fb9f3a\"],[0.8888888888888888,\"#fdca26\"],[1.0,\"#f0f921\"]],\"type\":\"heatmap\"}],\"histogram2dcontour\":[{\"colorbar\":{\"outlinewidth\":0,\"ticks\":\"\"},\"colorscale\":[[0.0,\"#0d0887\"],[0.1111111111111111,\"#46039f\"],[0.2222222222222222,\"#7201a8\"],[0.3333333333333333,\"#9c179e\"],[0.4444444444444444,\"#bd3786\"],[0.5555555555555556,\"#d8576b\"],[0.6666666666666666,\"#ed7953\"],[0.7777777777777778,\"#fb9f3a\"],[0.8888888888888888,\"#fdca26\"],[1.0,\"#f0f921\"]],\"type\":\"histogram2dcontour\"}],\"histogram2d\":[{\"colorbar\":{\"outlinewidth\":0,\"ticks\":\"\"},\"colorscale\":[[0.0,\"#0d0887\"],[0.1111111111111111,\"#46039f\"],[0.2222222222222222,\"#7201a8\"],[0.3333333333333333,\"#9c179e\"],[0.4444444444444444,\"#bd3786\"],[0.5555555555555556,\"#d8576b\"],[0.6666666666666666,\"#ed7953\"],[0.7777777777777778,\"#fb9f3a\"],[0.8888888888888888,\"#fdca26\"],[1.0,\"#f0f921\"]],\"type\":\"histogram2d\"}],\"histogram\":[{\"marker\":{\"pattern\":{\"fillmode\":\"overlay\",\"size\":10,\"solidity\":0.2}},\"type\":\"histogram\"}],\"mesh3d\":[{\"colorbar\":{\"outlinewidth\":0,\"ticks\":\"\"},\"type\":\"mesh3d\"}],\"parcoords\":[{\"line\":{\"colorbar\":{\"outlinewidth\":0,\"ticks\":\"\"}},\"type\":\"parcoords\"}],\"pie\":[{\"automargin\":true,\"type\":\"pie\"}],\"scatter3d\":[{\"line\":{\"colorbar\":{\"outlinewidth\":0,\"ticks\":\"\"}},\"marker\":{\"colorbar\":{\"outlinewidth\":0,\"ticks\":\"\"}},\"type\":\"scatter3d\"}],\"scattercarpet\":[{\"marker\":{\"colorbar\":{\"outlinewidth\":0,\"ticks\":\"\"}},\"type\":\"scattercarpet\"}],\"scattergeo\":[{\"marker\":{\"colorbar\":{\"outlinewidth\":0,\"ticks\":\"\"}},\"type\":\"scattergeo\"}],\"scattergl\":[{\"marker\":{\"colorbar\":{\"outlinewidth\":0,\"ticks\":\"\"}},\"type\":\"scattergl\"}],\"scattermapbox\":[{\"marker\":{\"colorbar\":{\"outlinewidth\":0,\"ticks\":\"\"}},\"type\":\"scattermapbox\"}],\"scatterpolargl\":[{\"marker\":{\"colorbar\":{\"outlinewidth\":0,\"ticks\":\"\"}},\"type\":\"scatterpolargl\"}],\"scatterpolar\":[{\"marker\":{\"colorbar\":{\"outlinewidth\":0,\"ticks\":\"\"}},\"type\":\"scatterpolar\"}],\"scatter\":[{\"fillpattern\":{\"fillmode\":\"overlay\",\"size\":10,\"solidity\":0.2},\"type\":\"scatter\"}],\"scatterternary\":[{\"marker\":{\"colorbar\":{\"outlinewidth\":0,\"ticks\":\"\"}},\"type\":\"scatterternary\"}],\"surface\":[{\"colorbar\":{\"outlinewidth\":0,\"ticks\":\"\"},\"colorscale\":[[0.0,\"#0d0887\"],[0.1111111111111111,\"#46039f\"],[0.2222222222222222,\"#7201a8\"],[0.3333333333333333,\"#9c179e\"],[0.4444444444444444,\"#bd3786\"],[0.5555555555555556,\"#d8576b\"],[0.6666666666666666,\"#ed7953\"],[0.7777777777777778,\"#fb9f3a\"],[0.8888888888888888,\"#fdca26\"],[1.0,\"#f0f921\"]],\"type\":\"surface\"}],\"table\":[{\"cells\":{\"fill\":{\"color\":\"#EBF0F8\"},\"line\":{\"color\":\"white\"}},\"header\":{\"fill\":{\"color\":\"#C8D4E3\"},\"line\":{\"color\":\"white\"}},\"type\":\"table\"}]},\"layout\":{\"annotationdefaults\":{\"arrowcolor\":\"#2a3f5f\",\"arrowhead\":0,\"arrowwidth\":1},\"autotypenumbers\":\"strict\",\"coloraxis\":{\"colorbar\":{\"outlinewidth\":0,\"ticks\":\"\"}},\"colorscale\":{\"diverging\":[[0,\"#8e0152\"],[0.1,\"#c51b7d\"],[0.2,\"#de77ae\"],[0.3,\"#f1b6da\"],[0.4,\"#fde0ef\"],[0.5,\"#f7f7f7\"],[0.6,\"#e6f5d0\"],[0.7,\"#b8e186\"],[0.8,\"#7fbc41\"],[0.9,\"#4d9221\"],[1,\"#276419\"]],\"sequential\":[[0.0,\"#0d0887\"],[0.1111111111111111,\"#46039f\"],[0.2222222222222222,\"#7201a8\"],[0.3333333333333333,\"#9c179e\"],[0.4444444444444444,\"#bd3786\"],[0.5555555555555556,\"#d8576b\"],[0.6666666666666666,\"#ed7953\"],[0.7777777777777778,\"#fb9f3a\"],[0.8888888888888888,\"#fdca26\"],[1.0,\"#f0f921\"]],\"sequentialminus\":[[0.0,\"#0d0887\"],[0.1111111111111111,\"#46039f\"],[0.2222222222222222,\"#7201a8\"],[0.3333333333333333,\"#9c179e\"],[0.4444444444444444,\"#bd3786\"],[0.5555555555555556,\"#d8576b\"],[0.6666666666666666,\"#ed7953\"],[0.7777777777777778,\"#fb9f3a\"],[0.8888888888888888,\"#fdca26\"],[1.0,\"#f0f921\"]]},\"colorway\":[\"#636efa\",\"#EF553B\",\"#00cc96\",\"#ab63fa\",\"#FFA15A\",\"#19d3f3\",\"#FF6692\",\"#B6E880\",\"#FF97FF\",\"#FECB52\"],\"font\":{\"color\":\"#2a3f5f\"},\"geo\":{\"bgcolor\":\"white\",\"lakecolor\":\"white\",\"landcolor\":\"#E5ECF6\",\"showlakes\":true,\"showland\":true,\"subunitcolor\":\"white\"},\"hoverlabel\":{\"align\":\"left\"},\"hovermode\":\"closest\",\"mapbox\":{\"style\":\"light\"},\"paper_bgcolor\":\"white\",\"plot_bgcolor\":\"#E5ECF6\",\"polar\":{\"angularaxis\":{\"gridcolor\":\"white\",\"linecolor\":\"white\",\"ticks\":\"\"},\"bgcolor\":\"#E5ECF6\",\"radialaxis\":{\"gridcolor\":\"white\",\"linecolor\":\"white\",\"ticks\":\"\"}},\"scene\":{\"xaxis\":{\"backgroundcolor\":\"#E5ECF6\",\"gridcolor\":\"white\",\"gridwidth\":2,\"linecolor\":\"white\",\"showbackground\":true,\"ticks\":\"\",\"zerolinecolor\":\"white\"},\"yaxis\":{\"backgroundcolor\":\"#E5ECF6\",\"gridcolor\":\"white\",\"gridwidth\":2,\"linecolor\":\"white\",\"showbackground\":true,\"ticks\":\"\",\"zerolinecolor\":\"white\"},\"zaxis\":{\"backgroundcolor\":\"#E5ECF6\",\"gridcolor\":\"white\",\"gridwidth\":2,\"linecolor\":\"white\",\"showbackground\":true,\"ticks\":\"\",\"zerolinecolor\":\"white\"}},\"shapedefaults\":{\"line\":{\"color\":\"#2a3f5f\"}},\"ternary\":{\"aaxis\":{\"gridcolor\":\"white\",\"linecolor\":\"white\",\"ticks\":\"\"},\"baxis\":{\"gridcolor\":\"white\",\"linecolor\":\"white\",\"ticks\":\"\"},\"bgcolor\":\"#E5ECF6\",\"caxis\":{\"gridcolor\":\"white\",\"linecolor\":\"white\",\"ticks\":\"\"}},\"title\":{\"x\":0.05},\"xaxis\":{\"automargin\":true,\"gridcolor\":\"white\",\"linecolor\":\"white\",\"ticks\":\"\",\"title\":{\"standoff\":15},\"zerolinecolor\":\"white\",\"zerolinewidth\":2},\"yaxis\":{\"automargin\":true,\"gridcolor\":\"white\",\"linecolor\":\"white\",\"ticks\":\"\",\"title\":{\"standoff\":15},\"zerolinecolor\":\"white\",\"zerolinewidth\":2}}},\"title\":{\"text\":\"Age Distribution\"},\"xaxis\":{\"anchor\":\"y\",\"domain\":[0.0,0.45]},\"yaxis\":{\"anchor\":\"x\",\"domain\":[0.625,1.0]},\"xaxis2\":{\"anchor\":\"y2\",\"domain\":[0.55,1.0]},\"yaxis2\":{\"anchor\":\"x2\",\"domain\":[0.625,1.0]},\"xaxis3\":{\"anchor\":\"y3\",\"domain\":[0.0,1.0]},\"yaxis3\":{\"anchor\":\"x3\",\"domain\":[0.0,0.375]}},                        {\"responsive\": true}                    ).then(function(){\n",
       "                            \n",
       "var gd = document.getElementById('7bd308d9-e766-4504-b799-c662b7bc4fc7');\n",
       "var x = new MutationObserver(function (mutations, observer) {{\n",
       "        var display = window.getComputedStyle(gd).display;\n",
       "        if (!display || display === 'none') {{\n",
       "            console.log([gd, 'removed!']);\n",
       "            Plotly.purge(gd);\n",
       "            observer.disconnect();\n",
       "        }}\n",
       "}});\n",
       "\n",
       "// Listen for the removal of the full notebook cells\n",
       "var notebookContainer = gd.closest('#notebook-container');\n",
       "if (notebookContainer) {{\n",
       "    x.observe(notebookContainer, {childList: true});\n",
       "}}\n",
       "\n",
       "// Listen for the clearing of the current output cell\n",
       "var outputEl = gd.closest('.output');\n",
       "if (outputEl) {{\n",
       "    x.observe(outputEl, {childList: true});\n",
       "}}\n",
       "\n",
       "                        })                };                });            </script>        </div>"
      ]
     },
     "metadata": {},
     "output_type": "display_data"
    }
   ],
   "source": [
    "from plotly.subplots import make_subplots #plotly.tools.make_subplots is deprecated, please use plotly.subplots.make_subplots instead\n",
    "df_good = df_credit.loc[df_credit[\"Risk\"] == 'good']['Age'].values.tolist()\n",
    "df_bad = df_credit.loc[df_credit[\"Risk\"] == 'bad']['Age'].values.tolist()\n",
    "df_age = df_credit['Age'].values.tolist()\n",
    "\n",
    "#First Plot\n",
    "\n",
    "trace0 = go.Histogram(\n",
    "    x=df_good,\n",
    "    histnorm='probability',\n",
    "    name = 'Good Credit'\n",
    ")\n",
    "\n",
    "#Second Plot\n",
    "\n",
    "trace1 = go.Histogram(\n",
    "    x=df_bad,\n",
    "    histnorm='probability',\n",
    "    name = 'Bad Credit'\n",
    ")\n",
    "#Third Plot\n",
    "\n",
    "trace2 = go.Histogram(\n",
    "    x=df_age,\n",
    "    histnorm='probability',\n",
    "    name = 'Overall Age'\n",
    ")\n",
    "\n",
    "#Creating a grid\n",
    "fig = make_subplots(rows=2,cols=2, specs=[[{}, {}], [{'colspan':2}, None]], subplot_titles= ('Good', 'Bad', 'General Distribution'))\n",
    "\n",
    "#setting the figs\n",
    "\n",
    "fig.append_trace(trace0, 1, 1)\n",
    "fig.append_trace(trace1, 1, 2)\n",
    "fig.append_trace(trace2, 2, 1)\n",
    "\n",
    "fig['layout'].update(showlegend=True, title='Age Distribution', bargap=0.05)\n",
    "py.iplot(fig, filename='custom-sized-subplot-with-subplot-titles')"
   ]
  },
  {
   "cell_type": "code",
   "execution_count": 17,
   "metadata": {},
   "outputs": [
    {
     "data": {
      "image/png": "[encoded data removed]",
      "text/plain": [
       "<Figure size 1200x800 with 2 Axes>"
      ]
     },
     "metadata": {},
     "output_type": "display_data"
    }
   ],
   "source": [
    "df_good = df_credit[df_credit[\"Risk\"] == 'good']\n",
    "df_bad = df_credit[df_credit[\"Risk\"] == 'bad']\n",
    "\n",
    "fig, ax = plt.subplots(nrows=2, figsize=(12,8))\n",
    "plt.subplots_adjust(hspace = 0.4, top = 0.8)\n",
    "\n",
    "g1 = sns.histplot(df_good[\"Age\"], ax=ax[0], \n",
    "             color=\"g\")\n",
    "g1 = sns.histplot(df_bad[\"Age\"], ax=ax[0], \n",
    "             color='r')\n",
    "g1.set_title(\"Age Distribuition\", fontsize=15)\n",
    "g1.set_xlabel(\"Age\")\n",
    "g1.set_xlabel(\"Frequency\")\n",
    "\n",
    "g2 = sns.countplot(x=\"Age\",data=df_credit, \n",
    "              palette=\"hls\", ax=ax[1], \n",
    "              hue = \"Risk\")\n",
    "g2.set_title(\"Age Counting by Risk\", fontsize=15)\n",
    "g2.set_xlabel(\"Age\")\n",
    "g2.set_xlabel(\"Count\")\n",
    "plt.show()"
   ]
  },
  {
   "cell_type": "code",
   "execution_count": null,
   "metadata": {},
   "outputs": [],
   "source": []
  }
 ],
 "metadata": {
  "kernelspec": {
   "display_name": "Python 3",
   "language": "python",
   "name": "python3"
  },
  "language_info": {
   "codemirror_mode": {
    "name": "ipython",
    "version": 3
   },
   "file_extension": ".py",
   "mimetype": "text/x-python",
   "name": "python",
   "nbconvert_exporter": "python",
   "pygments_lexer": "ipython3",
   "version": "3.12.0"
  }
 },
 "nbformat": 4,
 "nbformat_minor": 2
}
